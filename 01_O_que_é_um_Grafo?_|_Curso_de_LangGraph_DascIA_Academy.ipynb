{
  "nbformat": 4,
  "nbformat_minor": 0,
  "metadata": {
    "colab": {
      "provenance": [],
      "include_colab_link": true
    },
    "kernelspec": {
      "name": "python3",
      "display_name": "Python 3"
    },
    "language_info": {
      "name": "python"
    }
  },
  "cells": [
    {
      "cell_type": "markdown",
      "metadata": {
        "id": "view-in-github",
        "colab_type": "text"
      },
      "source": [
        "<a href=\"https://colab.research.google.com/github/pedromendesjr/estudos_ia/blob/main/01_O_que_%C3%A9_um_Grafo%3F_%7C_Curso_de_LangGraph_DascIA_Academy.ipynb\" target=\"_parent\"><img src=\"https://colab.research.google.com/assets/colab-badge.svg\" alt=\"Open In Colab\"/></a>"
      ]
    },
    {
      "cell_type": "markdown",
      "source": [
        "# O que é um Grafo?\n",
        "<img src=\"https://i.ibb.co/BK3yqPyN/Lead-Entra-na-Lista-30.png\" width=700px>\n",
        "\n",
        "Na matemática, um **grafo** é uma estrutura que representa conexões entre elementos.\n",
        "\n",
        "Um grafo G é definido como:\n",
        "\n",
        "**G = (V, E)**\n",
        "\n",
        "- **V**: conjunto de vértices (ou nós)\n",
        "- **E**: conjunto de arestas (conexões entre os nós)\n",
        "\n",
        "---\n",
        "\n",
        "## Tipos de Grafos:\n",
        "\n",
        "- **Não-direcionado**: conexões sem direção definida (ex: amizade)\n",
        "- **Direcionado (dígrafo)**: conexões com direção (ex: fluxo de trabalho)\n",
        "\n",
        "---\n",
        "\n",
        "## Exemplo Prático\n",
        "\n",
        "<img src=\"https://i.ibb.co/fVnYQkyM/Lead-Entra-na-Lista-31.png\" width=700px>\n",
        "\n",
        "---\n",
        "\n",
        "## Estado em Grafos\n",
        "\n",
        "Na teoria clássica dos grafos, o foco está na estrutura e nas conexões. Mas em sistemas computacionais (como LangGraph), introduzimos um **estado**:\n",
        "\n",
        "### O que é o estado?\n",
        "É uma estrutura (geralmente um dicionário) que carrega informações ao longo do grafo e pode ser atualizado pelos nós.\n",
        "\n",
        "Exemplo:\n",
        "```python\n",
        "estado = {\n",
        "    \"cliente\": \"João\",\n",
        "    \"pedido\": \"produto físico\"\n",
        "}\n",
        "```\n",
        "\n",
        "Cada nó pode ler, modificar ou tomar decisões com base nesse estado.\n",
        "\n",
        "### Simulação de um Grafo com Estado\n",
        "<img src=\"https://i.ibb.co/7JWZTsVy/Lead-Entra-na-Lista-32.png\" width=700px>\n",
        "\n",
        "Vamos simular um grafo onde cada nó executa uma função baseada no estado."
      ],
      "metadata": {
        "id": "UiMqfLDXlle7"
      }
    },
    {
      "cell_type": "code",
      "source": [
        "# Estado inicial\n",
        "estado = {\n",
        "    \"cliente\": \"João\",\n",
        "    \"pedido\": \"produto físico\"\n",
        "}\n",
        "\n",
        "# Funções dos nós\n",
        "def receber_pedido(state):\n",
        "    print(f\"📦 Pedido recebido de {state['cliente']}\")\n",
        "    return state\n",
        "\n",
        "def decidir_entrega(state):\n",
        "    if state[\"pedido\"] == \"produto digital\":\n",
        "        return \"enviar_link\"\n",
        "    elif state[\"pedido\"] == \"produto físico\":\n",
        "        return \"enviar_rastreio\"\n",
        "    else:\n",
        "        return \"receber_pedido\"\n",
        "\n",
        "def enviar_link(state):\n",
        "    print(f\"🔗 Link enviado para {state['cliente']}\")\n",
        "    return state\n",
        "\n",
        "def enviar_rastreio(state):\n",
        "    print(f\"🚚 Código de rastreio enviado para {state['cliente']}\")\n",
        "    return state"
      ],
      "metadata": {
        "id": "9nUXu09by9C3"
      },
      "execution_count": null,
      "outputs": []
    },
    {
      "cell_type": "code",
      "source": [
        "# Execução simulada do grafo\n",
        "estado = receber_pedido(estado)\n",
        "estado"
      ],
      "metadata": {
        "colab": {
          "base_uri": "https://localhost:8080/"
        },
        "id": "wVflFadMzCJv",
        "outputId": "228fa088-cea5-457d-d3b4-d5fe9ed8c637"
      },
      "execution_count": null,
      "outputs": [
        {
          "output_type": "stream",
          "name": "stdout",
          "text": [
            "📦 Pedido recebido de João\n"
          ]
        },
        {
          "output_type": "execute_result",
          "data": {
            "text/plain": [
              "{'cliente': 'João', 'pedido': 'produto físico'}"
            ]
          },
          "metadata": {},
          "execution_count": 2
        }
      ]
    },
    {
      "cell_type": "code",
      "source": [
        "proximo_no = decidir_entrega(estado)\n",
        "proximo_no"
      ],
      "metadata": {
        "colab": {
          "base_uri": "https://localhost:8080/",
          "height": 35
        },
        "id": "a8ZsXeufzH8c",
        "outputId": "64742f5c-73ff-4760-93cd-7075597bdb11"
      },
      "execution_count": null,
      "outputs": [
        {
          "output_type": "execute_result",
          "data": {
            "text/plain": [
              "'enviar_rastreio'"
            ],
            "application/vnd.google.colaboratory.intrinsic+json": {
              "type": "string"
            }
          },
          "metadata": {},
          "execution_count": 3
        }
      ]
    },
    {
      "cell_type": "code",
      "source": [
        "if proximo_no == \"enviar_link\":\n",
        "    estado = enviar_link(estado)\n",
        "    print(estado)\n",
        "elif proximo_no == \"enviar_rastreio\":\n",
        "    estado = enviar_rastreio(estado)\n",
        "    print(estado)\n",
        "else:\n",
        "    print(\"❌ Erro no tipo de pedido\")"
      ],
      "metadata": {
        "colab": {
          "base_uri": "https://localhost:8080/"
        },
        "id": "rR_ZYIauzJjV",
        "outputId": "e11fb5a7-365d-42d0-92e8-ed7e454cd001"
      },
      "execution_count": null,
      "outputs": [
        {
          "output_type": "stream",
          "name": "stdout",
          "text": [
            "🚚 Código de rastreio enviado para João\n",
            "{'cliente': 'João', 'pedido': 'produto físico'}\n"
          ]
        }
      ]
    },
    {
      "cell_type": "markdown",
      "source": [
        "✅ Pronto! Agora você entende os fundamentos de grafos e como eles são aplicados em sistemas com estado, como no LangGraph. A próxima etapa é entender os fundamentos do langgraph."
      ],
      "metadata": {
        "id": "LK_3rBbb1u4z"
      }
    }
  ]
}